{
 "cells": [
  {
   "cell_type": "code",
   "execution_count": 17,
   "metadata": {},
   "outputs": [],
   "source": [
    "from bs4 import BeautifulSoup\n",
    "import requests\n",
    "import pandas as pd"
   ]
  },
  {
   "cell_type": "code",
   "execution_count": 18,
   "metadata": {},
   "outputs": [],
   "source": [
    "url = 'https://boston.craigslist.org/search/npo'"
   ]
  },
  {
   "cell_type": "code",
   "execution_count": 19,
   "metadata": {},
   "outputs": [
    {
     "name": "stdout",
     "output_type": "stream",
     "text": [
      "{'key': 'value'}\n"
     ]
    }
   ],
   "source": [
    "# criando um dicionário \n",
    "\n",
    "d = {'key': 'value'}\n",
    "print(d)"
   ]
  },
  {
   "cell_type": "code",
   "execution_count": 20,
   "metadata": {},
   "outputs": [
    {
     "name": "stdout",
     "output_type": "stream",
     "text": [
      "{'key': 'value', 'new key': 'new value'}\n"
     ]
    }
   ],
   "source": [
    "# atualizando o dicionário\n",
    "\n",
    "d ['new key'] = 'new value'\n",
    "print(d)"
   ]
  },
  {
   "cell_type": "code",
   "execution_count": 22,
   "metadata": {},
   "outputs": [
    {
     "name": "stdout",
     "output_type": "stream",
     "text": [
      "Total Jobs:  0\n"
     ]
    }
   ],
   "source": [
    "npo_jobs = {}\n",
    "job_no = 0\n",
    "\n",
    "while True:\n",
    "    response = requests.get(url)\n",
    "    data = response.text\n",
    "    soup = BeautifulSoup(data, 'html.parser')\n",
    "    jobs = soup.find_all('p', {'class' : 'result-info'})\n",
    "    \n",
    "    for job in jobs:\n",
    "\n",
    "        title = job.find('a', {'class' : 'result-title'}).text\n",
    "        location_tag = job.find('span', {'class' : 'result-hood'})\n",
    "        location = location_tag.text[1:-1] if location_tag else 'N/A'\n",
    "        date = job.find('time', {'class' : 'result-date'}).text\n",
    "        link = job.find('a', {'class' : 'result-title'}).get('href')\n",
    "        \n",
    "        job_response = requests.get(link)\n",
    "        job_data = job_response.text\n",
    "        job_soup = BeautifulSoup(job_data, 'html.parser')\n",
    "        job_description = job_soup.find('section', {'id' : 'postingbody'}).text\n",
    "        job_attributes_tag = job_soup.find('p', {'class' : 'attrgroup'})\n",
    "        job_attributes = job_attributes_tag.text if job_attributes_tag else 'N/A'\n",
    "\n",
    "        job_no += 1\n",
    "\n",
    "        npo_jobs[job_no] = [title, location, date, link, job_attributes, job_description]\n",
    "\n",
    "\n",
    "        print(f'Job title: {title}', f'Location: {location}', f'Date: {date}', f'Link: {link}', f'Job attributes: {job_attributes}', f'Job description: {job_description}')\n",
    "\n",
    "    url_tag = soup.find('a', {'title' : 'next page'})\n",
    "    if url_tag.get('href'):\n",
    "        url = 'https://boston.craigslist.org' + url_tag.get('href')\n",
    "        print(url)\n",
    "\n",
    "    else:\n",
    "        break\n",
    "\n",
    "print('Total Jobs: ', job_no)\n",
    "npo_jobs_df = pd.DataFrame.from_dict(npo_jobs, orient='index', columns=['Title', 'Location', 'Date', 'Link', 'Job attributes', 'Job description'])"
   ]
  },
  {
   "cell_type": "code",
   "execution_count": 23,
   "metadata": {},
   "outputs": [
    {
     "data": {
      "text/html": [
       "<div>\n",
       "<style scoped>\n",
       "    .dataframe tbody tr th:only-of-type {\n",
       "        vertical-align: middle;\n",
       "    }\n",
       "\n",
       "    .dataframe tbody tr th {\n",
       "        vertical-align: top;\n",
       "    }\n",
       "\n",
       "    .dataframe thead th {\n",
       "        text-align: right;\n",
       "    }\n",
       "</style>\n",
       "<table border=\"1\" class=\"dataframe\">\n",
       "  <thead>\n",
       "    <tr style=\"text-align: right;\">\n",
       "      <th></th>\n",
       "      <th>Title</th>\n",
       "      <th>Location</th>\n",
       "      <th>Date</th>\n",
       "      <th>Link</th>\n",
       "      <th>Job attributes</th>\n",
       "      <th>Job description</th>\n",
       "    </tr>\n",
       "  </thead>\n",
       "  <tbody>\n",
       "  </tbody>\n",
       "</table>\n",
       "</div>"
      ],
      "text/plain": [
       "Empty DataFrame\n",
       "Columns: [Title, Location, Date, Link, Job attributes, Job description]\n",
       "Index: []"
      ]
     },
     "execution_count": 23,
     "metadata": {},
     "output_type": "execute_result"
    }
   ],
   "source": [
    "npo_jobs_df"
   ]
  },
  {
   "cell_type": "code",
   "execution_count": null,
   "metadata": {},
   "outputs": [],
   "source": []
  }
 ],
 "metadata": {
  "interpreter": {
   "hash": "b3ba2566441a7c06988d0923437866b63cedc61552a5af99d1f4fb67d367b25f"
  },
  "kernelspec": {
   "display_name": "Python 3.8.8 ('base')",
   "language": "python",
   "name": "python3"
  },
  "language_info": {
   "codemirror_mode": {
    "name": "ipython",
    "version": 3
   },
   "file_extension": ".py",
   "mimetype": "text/x-python",
   "name": "python",
   "nbconvert_exporter": "python",
   "pygments_lexer": "ipython3",
   "version": "3.8.8"
  },
  "orig_nbformat": 4
 },
 "nbformat": 4,
 "nbformat_minor": 2
}
