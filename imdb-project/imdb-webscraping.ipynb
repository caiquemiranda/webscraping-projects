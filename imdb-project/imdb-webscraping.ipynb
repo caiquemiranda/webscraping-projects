{
 "cells": [
  {
   "cell_type": "code",
   "execution_count": 2,
   "metadata": {},
   "outputs": [],
   "source": [
    "import scrapy"
   ]
  },
  {
   "cell_type": "code",
   "execution_count": 8,
   "metadata": {},
   "outputs": [],
   "source": [
    "class ImdbScreaping(scrapy.Spider):\n",
    "    name = 'imdb'\n",
    "    start_urls = ['https://www.imdb.com/chart/top']\n",
    "\n",
    "    def parse(self, response):\n",
    "        for title in response.css('td.titleColumn'):\n",
    "            yield {\n",
    "                'title': title.css('a::text').get(),\n",
    "                'year': title.css('span.secondaryInfo::text').get(),\n",
    "                'rating': title.css('td.ratingColumn::text').get(),\n",
    "            }\n",
    "        next_page = response.css('div.desc a::attr(href)').get()\n",
    "        if next_page is not None:\n",
    "            yield response.follow(next_page, self.parse)"
   ]
  }
 ],
 "metadata": {
  "interpreter": {
   "hash": "b3ba2566441a7c06988d0923437866b63cedc61552a5af99d1f4fb67d367b25f"
  },
  "kernelspec": {
   "display_name": "Python 3.8.8 ('base')",
   "language": "python",
   "name": "python3"
  },
  "language_info": {
   "codemirror_mode": {
    "name": "ipython",
    "version": 3
   },
   "file_extension": ".py",
   "mimetype": "text/x-python",
   "name": "python",
   "nbconvert_exporter": "python",
   "pygments_lexer": "ipython3",
   "version": "3.8.8"
  },
  "orig_nbformat": 4
 },
 "nbformat": 4,
 "nbformat_minor": 2
}
