{
 "cells": [
  {
   "cell_type": "code",
   "execution_count": null,
   "metadata": {},
   "outputs": [],
   "source": [
    "# Ideia inicial do projeto:\n",
    "#    - Criar um script que pegue as informações de um usuário do Tinder\n",
    "#    - Criar um script que pegue as informações de todos os usuários do Tinder\n",
    "#    - Nome, Idade, Localização, Bio\n",
    "#    - Bio(se existe menção de conta do instagram) \n",
    "\n",
    "# perguntas \n",
    "#    - Qual a média de idade dos usuários de x localidade?\n",
    "#    - Qual a média de idade dos usuários que tenham menção de conta do instagram?\n",
    "#    - Qual as preferencias mais comuns dos usuários?\n",
    "#    - características em comum dos usuaários"
   ]
  },
  {
   "cell_type": "code",
   "execution_count": 29,
   "metadata": {},
   "outputs": [],
   "source": [
    "from bs4 import BeautifulSoup\n",
    "import re\n",
    "import pandas as pd"
   ]
  },
  {
   "cell_type": "code",
   "execution_count": 30,
   "metadata": {},
   "outputs": [],
   "source": [
    "text = '<div class=\"D(f) Jc(sb) Us(n) Px(16px) Py(10px)\"><div class=\"W(100%)\"><div class=\"My(2px) C($c-base) Us(t) D(f) Ai(b) Maw(90%)\" data-testid=\"name-age\"><div class=\"Ov(h) Ws(nw) Ell\"><h1 class=\"Fz($xl) Fw($bold) Fxs(1) Fxw(w) Pend(8px) M(0) D(i)\" data-testid=\"recCard__name\">Cintia Borini</h1></div><span class=\"Whs(nw) Fz($l)\" data-testid=\"recCard__age\">28</span><div class=\"D(ib) Lh(0) Sq(30px) Mstart(4px) As(c)\" data-testid=\"badge-verified\"><svg focusable=\"false\" aria-hidden=\"false\" role=\"img\" viewBox=\"0 0 24 24\" width=\"24px\" height=\"24px\" class=\"Expand\" stroke-linecap=\"round\" aria-labelledby=\"8ef85fb3635524c1\"><g><path d=\"M3.206 8.732l-.562.308a1.24 1.24 0 00-.615.814c-.077.345 0 .705.211.991l.382.507a1.204 1.204 0 010 1.431l-.382.528c-.427.595-.224 1.453.427 1.783l.562.309c.471.242.741.77.651 1.276l-.112.617c-.063.35.032.708.26.983.23.274.568.438.93.448l.65.022c.54.022 1.012.375 1.146.881l.18.617c.203.703 1.012 1.078 1.707.792l.607-.242a1.296 1.296 0 011.438.308l.426.485c.241.265.587.414.949.41.361-.004.703-.162.938-.432l.427-.485a1.27 1.27 0 011.414-.33l.607.242c.332.138.709.127 1.032-.03.323-.156.561-.442.652-.785l.179-.616a1.243 1.243 0 011.146-.903l.652-.044c.358-.024.69-.195.912-.472.223-.277.315-.634.254-.98l-.11-.617a1.233 1.233 0 01.628-1.299l.561-.308a1.24 1.24 0 00.616-.814c.077-.345 0-.706-.211-.992l-.382-.507a1.204 1.204 0 010-1.43l.382-.528c.426-.595.224-1.453-.427-1.785l-.562-.308a1.22 1.22 0 01-.651-1.276l.112-.617a1.203 1.203 0 00-.26-.983 1.254 1.254 0 00-.93-.448l-.651-.022a1.222 1.222 0 01-1.146-.88l-.18-.617c-.202-.705-1.01-1.078-1.706-.793l-.674.243a1.296 1.296 0 01-1.437-.308l-.427-.485a1.255 1.255 0 00-.942-.39 1.253 1.253 0 00-.923.434l-.426.484a1.27 1.27 0 01-1.415.33l-.606-.241a1.264 1.264 0 00-1.033.03 1.222 1.222 0 00-.652.784l-.18.617a1.243 1.243 0 01-1.144.902l-.652.043c-.36.024-.692.196-.914.473a1.228 1.228 0 00-.254.982l.112.616c.134.484-.112 1.013-.584 1.277z\" fill=\"#1786ff\"></path><path stroke=\"#1786ff\" d=\"M16.902 8.38a1.296 1.296 0 00-.94-.38c-.34 0-.682.126-.916.38l-4.184 3.934-1.622-1.4a1.282 1.282 0 00-.917-.38c-.34 0-.682.126-.939.38-.255.252-.384.57-.384.908 0 .337.129.676.384.908l2.562 2.944c.255.252.575.379.916.379.342 0 .684-.127.918-.38l5.1-5.456c.256-.253.406-.592.406-.93 0-.336-.128-.675-.385-.908h.001z\" fill=\"#fff\"></path></g><title id=\"8ef85fb3635524c1\">Verificado!</title></svg></div></div><div class=\"Fz($ms)\"><div class=\"Row\"><div class=\"Mend(4px) D(ib) Va(t)\"><svg focusable=\"false\" aria-hidden=\"true\" role=\"presentation\" viewBox=\"0 0 24 24\" width=\"24px\" height=\"24px\" class=\"Va(m) Sq(16px)\"><g transform=\"translate(2 5)\" stroke=\"#505965\" stroke-width=\".936\" fill=\"none\" fill-rule=\"evenodd\"><rect x=\"5.006\" y=\"3.489\" width=\"9.988\" height=\"9.637\" rx=\".936\"></rect><path d=\"M7.15 3.434h5.7V1.452a.728.728 0 0 0-.724-.732H7.874a.737.737 0 0 0-.725.732v1.982z\"></path><rect x=\".72\" y=\"3.489\" width=\"18.56\" height=\"9.637\" rx=\".936\"></rect></g></svg></div><div class=\"Us(t) Va(m) D(ib) My(2px) NetWidth(100%,20px) C($c-secondary)\" data-testid=\"info-job\">English Teacher</div></div><div class=\"Row\"><div class=\"Mend(4px) D(ib) Va(t)\"><svg focusable=\"false\" aria-hidden=\"true\" role=\"presentation\" viewBox=\"0 0 24 24\" width=\"24px\" height=\"24px\" class=\"Va(m) Sq(16px)\"><path fill=\"#505965\" stroke=\"#505965\" stroke-width=\".5\" d=\"M11.87 5.026L2.186 9.242c-.25.116-.25.589 0 .705l.474.204v2.622a.78.78 0 0 0-.344.657c0 .42.313.767.69.767.378 0 .692-.348.692-.767a.78.78 0 0 0-.345-.657v-2.322l2.097.921a.42.42 0 0 0-.022.144v3.83c0 .45.27.801.626 1.101.358.302.842.572 1.428.804 1.172.46 2.755.776 4.516.776 1.763 0 3.346-.317 4.518-.777.586-.23 1.07-.501 1.428-.803.355-.3.626-.65.626-1.1v-3.83a.456.456 0 0 0-.022-.145l3.264-1.425c.25-.116.25-.59 0-.705L12.13 5.025c-.082-.046-.22-.017-.26 0v.001zm.13.767l8.743 3.804L12 13.392 3.257 9.599l8.742-3.806zm-5.88 5.865l5.75 2.502a.319.319 0 0 0 .26 0l5.75-2.502v3.687c0 .077-.087.262-.358.491-.372.29-.788.52-1.232.68-1.078.426-2.604.743-4.29.743s-3.212-.317-4.29-.742c-.444-.161-.86-.39-1.232-.68-.273-.23-.358-.415-.358-.492v-3.687z\"></path></svg></div><div class=\"Us(t) Va(m) D(ib) My(2px) NetWidth(100%,20px) C($c-secondary)\" data-testid=\"info-school\">Letras - Unicesumar</div></div><div class=\"Row\"><div class=\"Mend(4px) D(ib)\"><svg focusable=\"false\" aria-hidden=\"true\" role=\"presentation\" viewBox=\"0 0 24 24\" width=\"24px\" height=\"24px\" class=\"Va(m) Sq(16px)\"><g stroke=\"#505965\" stroke-width=\".936\" fill=\"none\" fill-rule=\"evenodd\"><path d=\"M19.695 9.518H4.427V21.15h15.268V9.52zM3.109 9.482h17.933L12.06 3.709 3.11 9.482z\"></path><path d=\"M9.518 21.15h5.086v-6.632H9.518z\"></path></g></svg></div><div class=\"Us(t) Va(m) D(ib) My(2px) NetWidth(100%,20px) C($c-secondary) Ell\" data-testid=\"info-city\">Mora em/no Porto União</div></div><div class=\"Row\"><div class=\"Mend(4px) D(ib) Va(t)\"><svg focusable=\"false\" aria-hidden=\"true\" role=\"presentation\" viewBox=\"0 0 24 24\" width=\"24px\" height=\"24px\" class=\"Va(m) Sq(16px)\"><g fill=\"#505965\" stroke=\"#505965\" stroke-width=\".5\" fill-rule=\"evenodd\"><path d=\"M11.436 21.17l-.185-.165a35.36 35.36 0 0 1-3.615-3.801C5.222 14.244 4 11.658 4 9.524 4 5.305 7.267 2 11.436 2c4.168 0 7.437 3.305 7.437 7.524 0 4.903-6.953 11.214-7.237 11.48l-.2.167zm0-18.683c-3.869 0-6.9 3.091-6.9 7.037 0 4.401 5.771 9.927 6.897 10.972 1.12-1.054 6.902-6.694 6.902-10.95.001-3.968-3.03-7.059-6.9-7.059h.001z\"></path><path d=\"M11.445 12.5a2.945 2.945 0 0 1-2.721-1.855 3.04 3.04 0 0 1 .641-3.269 2.905 2.905 0 0 1 3.213-.645 3.003 3.003 0 0 1 1.813 2.776c-.006 1.653-1.322 2.991-2.946 2.993zm0-5.544c-1.378 0-2.496 1.139-2.498 2.542 0 1.404 1.115 2.544 2.495 2.546a2.52 2.52 0 0 0 2.502-2.535 2.527 2.527 0 0 0-2.499-2.545v-.008z\"></path></g></svg></div><div class=\"Us(t) Va(m) D(ib) My(2px) NetWidth(100%,20px) C($c-secondary)\" data-testid=\"info-distance\">a 1978 quilômetros daqui</div></div></div></div></div>'"
   ]
  },
  {
   "cell_type": "code",
   "execution_count": 31,
   "metadata": {},
   "outputs": [
    {
     "data": {
      "text/plain": [
       "<div class=\"D(f) Jc(sb) Us(n) Px(16px) Py(10px)\"><div class=\"W(100%)\"><div class=\"My(2px) C($c-base) Us(t) D(f) Ai(b) Maw(90%)\" data-testid=\"name-age\"><div class=\"Ov(h) Ws(nw) Ell\"><h1 class=\"Fz($xl) Fw($bold) Fxs(1) Fxw(w) Pend(8px) M(0) D(i)\" data-testid=\"recCard__name\">Cintia Borini</h1></div><span class=\"Whs(nw) Fz($l)\" data-testid=\"recCard__age\">28</span><div class=\"D(ib) Lh(0) Sq(30px) Mstart(4px) As(c)\" data-testid=\"badge-verified\"><svg aria-hidden=\"false\" aria-labelledby=\"8ef85fb3635524c1\" class=\"Expand\" focusable=\"false\" height=\"24px\" role=\"img\" stroke-linecap=\"round\" viewbox=\"0 0 24 24\" width=\"24px\"><g><path d=\"M3.206 8.732l-.562.308a1.24 1.24 0 00-.615.814c-.077.345 0 .705.211.991l.382.507a1.204 1.204 0 010 1.431l-.382.528c-.427.595-.224 1.453.427 1.783l.562.309c.471.242.741.77.651 1.276l-.112.617c-.063.35.032.708.26.983.23.274.568.438.93.448l.65.022c.54.022 1.012.375 1.146.881l.18.617c.203.703 1.012 1.078 1.707.792l.607-.242a1.296 1.296 0 011.438.308l.426.485c.241.265.587.414.949.41.361-.004.703-.162.938-.432l.427-.485a1.27 1.27 0 011.414-.33l.607.242c.332.138.709.127 1.032-.03.323-.156.561-.442.652-.785l.179-.616a1.243 1.243 0 011.146-.903l.652-.044c.358-.024.69-.195.912-.472.223-.277.315-.634.254-.98l-.11-.617a1.233 1.233 0 01.628-1.299l.561-.308a1.24 1.24 0 00.616-.814c.077-.345 0-.706-.211-.992l-.382-.507a1.204 1.204 0 010-1.43l.382-.528c.426-.595.224-1.453-.427-1.785l-.562-.308a1.22 1.22 0 01-.651-1.276l.112-.617a1.203 1.203 0 00-.26-.983 1.254 1.254 0 00-.93-.448l-.651-.022a1.222 1.222 0 01-1.146-.88l-.18-.617c-.202-.705-1.01-1.078-1.706-.793l-.674.243a1.296 1.296 0 01-1.437-.308l-.427-.485a1.255 1.255 0 00-.942-.39 1.253 1.253 0 00-.923.434l-.426.484a1.27 1.27 0 01-1.415.33l-.606-.241a1.264 1.264 0 00-1.033.03 1.222 1.222 0 00-.652.784l-.18.617a1.243 1.243 0 01-1.144.902l-.652.043c-.36.024-.692.196-.914.473a1.228 1.228 0 00-.254.982l.112.616c.134.484-.112 1.013-.584 1.277z\" fill=\"#1786ff\"></path><path d=\"M16.902 8.38a1.296 1.296 0 00-.94-.38c-.34 0-.682.126-.916.38l-4.184 3.934-1.622-1.4a1.282 1.282 0 00-.917-.38c-.34 0-.682.126-.939.38-.255.252-.384.57-.384.908 0 .337.129.676.384.908l2.562 2.944c.255.252.575.379.916.379.342 0 .684-.127.918-.38l5.1-5.456c.256-.253.406-.592.406-.93 0-.336-.128-.675-.385-.908h.001z\" fill=\"#fff\" stroke=\"#1786ff\"></path></g><title id=\"8ef85fb3635524c1\">Verificado!</title></svg></div></div><div class=\"Fz($ms)\"><div class=\"Row\"><div class=\"Mend(4px) D(ib) Va(t)\"><svg aria-hidden=\"true\" class=\"Va(m) Sq(16px)\" focusable=\"false\" height=\"24px\" role=\"presentation\" viewbox=\"0 0 24 24\" width=\"24px\"><g fill=\"none\" fill-rule=\"evenodd\" stroke=\"#505965\" stroke-width=\".936\" transform=\"translate(2 5)\"><rect height=\"9.637\" rx=\".936\" width=\"9.988\" x=\"5.006\" y=\"3.489\"></rect><path d=\"M7.15 3.434h5.7V1.452a.728.728 0 0 0-.724-.732H7.874a.737.737 0 0 0-.725.732v1.982z\"></path><rect height=\"9.637\" rx=\".936\" width=\"18.56\" x=\".72\" y=\"3.489\"></rect></g></svg></div><div class=\"Us(t) Va(m) D(ib) My(2px) NetWidth(100%,20px) C($c-secondary)\" data-testid=\"info-job\">English Teacher</div></div><div class=\"Row\"><div class=\"Mend(4px) D(ib) Va(t)\"><svg aria-hidden=\"true\" class=\"Va(m) Sq(16px)\" focusable=\"false\" height=\"24px\" role=\"presentation\" viewbox=\"0 0 24 24\" width=\"24px\"><path d=\"M11.87 5.026L2.186 9.242c-.25.116-.25.589 0 .705l.474.204v2.622a.78.78 0 0 0-.344.657c0 .42.313.767.69.767.378 0 .692-.348.692-.767a.78.78 0 0 0-.345-.657v-2.322l2.097.921a.42.42 0 0 0-.022.144v3.83c0 .45.27.801.626 1.101.358.302.842.572 1.428.804 1.172.46 2.755.776 4.516.776 1.763 0 3.346-.317 4.518-.777.586-.23 1.07-.501 1.428-.803.355-.3.626-.65.626-1.1v-3.83a.456.456 0 0 0-.022-.145l3.264-1.425c.25-.116.25-.59 0-.705L12.13 5.025c-.082-.046-.22-.017-.26 0v.001zm.13.767l8.743 3.804L12 13.392 3.257 9.599l8.742-3.806zm-5.88 5.865l5.75 2.502a.319.319 0 0 0 .26 0l5.75-2.502v3.687c0 .077-.087.262-.358.491-.372.29-.788.52-1.232.68-1.078.426-2.604.743-4.29.743s-3.212-.317-4.29-.742c-.444-.161-.86-.39-1.232-.68-.273-.23-.358-.415-.358-.492v-3.687z\" fill=\"#505965\" stroke=\"#505965\" stroke-width=\".5\"></path></svg></div><div class=\"Us(t) Va(m) D(ib) My(2px) NetWidth(100%,20px) C($c-secondary)\" data-testid=\"info-school\">Letras - Unicesumar</div></div><div class=\"Row\"><div class=\"Mend(4px) D(ib)\"><svg aria-hidden=\"true\" class=\"Va(m) Sq(16px)\" focusable=\"false\" height=\"24px\" role=\"presentation\" viewbox=\"0 0 24 24\" width=\"24px\"><g fill=\"none\" fill-rule=\"evenodd\" stroke=\"#505965\" stroke-width=\".936\"><path d=\"M19.695 9.518H4.427V21.15h15.268V9.52zM3.109 9.482h17.933L12.06 3.709 3.11 9.482z\"></path><path d=\"M9.518 21.15h5.086v-6.632H9.518z\"></path></g></svg></div><div class=\"Us(t) Va(m) D(ib) My(2px) NetWidth(100%,20px) C($c-secondary) Ell\" data-testid=\"info-city\">Mora em/no Porto União</div></div><div class=\"Row\"><div class=\"Mend(4px) D(ib) Va(t)\"><svg aria-hidden=\"true\" class=\"Va(m) Sq(16px)\" focusable=\"false\" height=\"24px\" role=\"presentation\" viewbox=\"0 0 24 24\" width=\"24px\"><g fill=\"#505965\" fill-rule=\"evenodd\" stroke=\"#505965\" stroke-width=\".5\"><path d=\"M11.436 21.17l-.185-.165a35.36 35.36 0 0 1-3.615-3.801C5.222 14.244 4 11.658 4 9.524 4 5.305 7.267 2 11.436 2c4.168 0 7.437 3.305 7.437 7.524 0 4.903-6.953 11.214-7.237 11.48l-.2.167zm0-18.683c-3.869 0-6.9 3.091-6.9 7.037 0 4.401 5.771 9.927 6.897 10.972 1.12-1.054 6.902-6.694 6.902-10.95.001-3.968-3.03-7.059-6.9-7.059h.001z\"></path><path d=\"M11.445 12.5a2.945 2.945 0 0 1-2.721-1.855 3.04 3.04 0 0 1 .641-3.269 2.905 2.905 0 0 1 3.213-.645 3.003 3.003 0 0 1 1.813 2.776c-.006 1.653-1.322 2.991-2.946 2.993zm0-5.544c-1.378 0-2.496 1.139-2.498 2.542 0 1.404 1.115 2.544 2.495 2.546a2.52 2.52 0 0 0 2.502-2.535 2.527 2.527 0 0 0-2.499-2.545v-.008z\"></path></g></svg></div><div class=\"Us(t) Va(m) D(ib) My(2px) NetWidth(100%,20px) C($c-secondary)\" data-testid=\"info-distance\">a 1978 quilômetros daqui</div></div></div></div></div>"
      ]
     },
     "execution_count": 31,
     "metadata": {},
     "output_type": "execute_result"
    }
   ],
   "source": [
    "soup = BeautifulSoup(text, 'html.parser')\n",
    "soup"
   ]
  },
  {
   "cell_type": "code",
   "execution_count": 34,
   "metadata": {},
   "outputs": [
    {
     "data": {
      "text/plain": [
       "[<div class=\"Ov(h) Ws(nw) Ell\"><h1 class=\"Fz($xl) Fw($bold) Fxs(1) Fxw(w) Pend(8px) M(0) D(i)\" data-testid=\"recCard__name\">Cintia Borini</h1></div>]"
      ]
     },
     "execution_count": 34,
     "metadata": {},
     "output_type": "execute_result"
    }
   ],
   "source": [
    "# teste da extração do nome do usuário\n",
    "soup.find_all('div', attrs={'class': 'Ov(h) Ws(nw) Ell'})"
   ]
  }
 ],
 "metadata": {
  "interpreter": {
   "hash": "b3ba2566441a7c06988d0923437866b63cedc61552a5af99d1f4fb67d367b25f"
  },
  "kernelspec": {
   "display_name": "Python 3.8.8 ('base')",
   "language": "python",
   "name": "python3"
  },
  "language_info": {
   "codemirror_mode": {
    "name": "ipython",
    "version": 3
   },
   "file_extension": ".py",
   "mimetype": "text/x-python",
   "name": "python",
   "nbconvert_exporter": "python",
   "pygments_lexer": "ipython3",
   "version": "3.8.8"
  },
  "orig_nbformat": 4
 },
 "nbformat": 4,
 "nbformat_minor": 2
}
